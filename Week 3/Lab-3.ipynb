{
 "cells": [
  {
   "cell_type": "markdown",
   "id": "expired-contribution",
   "metadata": {
    "pycharm": {
     "name": "#%% md\n"
    }
   },
   "source": [
    "## Week 3 : Logistic Regression \n",
    "```\n",
    "- Machine Learning, Innopolis University (Fall semester 2022)\n",
    "- Professor: Adil Khan\n",
    "- Teaching Assistant: Gcinizwe Dlamini\n",
    "```\n",
    "<hr>\n",
    "\n",
    "\n",
    "```\n",
    "Lab Plan\n",
    "1. Recap on Logistic Regression\n",
    "2. Data for Classification Task\n",
    "3. Classification task evaluation metrics\n",
    "4. Dealing with data imbalance (self practice)\n",
    "```\n",
    "\n",
    "<hr>"
   ]
  },
  {
   "cell_type": "markdown",
   "id": "developed-wallace",
   "metadata": {
    "pycharm": {
     "name": "#%% md\n"
    }
   },
   "source": [
    "## 1. Data for Classification Task\n",
    "\n",
    "* How is data for regression different from classification task different? \n",
    "\n",
    "Covid-19 Dataset collected is from March 2020 - November 2021. The target/goal is to predict the disease based on the patient state. \n",
    "\n",
    "<strong>Target Feature: Corona Result.</strong>\n",
    "\n",
    "<strong>Task:</strong> apply the tools of machine learning to predict which patients got infected by Covid-19."
   ]
  },
  {
   "cell_type": "markdown",
   "id": "b470cac9",
   "metadata": {
    "pycharm": {
     "name": "#%% md\n"
    }
   },
   "source": [
    "## 2 Import libraries"
   ]
  },
  {
   "cell_type": "code",
   "execution_count": 1,
   "id": "e981825b",
   "metadata": {
    "pycharm": {
     "name": "#%%\n"
    }
   },
   "outputs": [],
   "source": [
    "import numpy as np\n",
    "import pandas as pd\n",
    "import matplotlib.pyplot as plt\n",
    "%matplotlib inline"
   ]
  },
  {
   "cell_type": "markdown",
   "id": "occupied-reporter",
   "metadata": {
    "pycharm": {
     "name": "#%% md\n"
    }
   },
   "source": [
    "## 3. Load Data"
   ]
  },
  {
   "cell_type": "code",
   "execution_count": 2,
   "id": "perceived-judges",
   "metadata": {
    "pycharm": {
     "name": "#%%\n"
    }
   },
   "outputs": [
    {
     "data": {
      "text/html": [
       "<div>\n",
       "<style scoped>\n",
       "    .dataframe tbody tr th:only-of-type {\n",
       "        vertical-align: middle;\n",
       "    }\n",
       "\n",
       "    .dataframe tbody tr th {\n",
       "        vertical-align: top;\n",
       "    }\n",
       "\n",
       "    .dataframe thead th {\n",
       "        text-align: right;\n",
       "    }\n",
       "</style>\n",
       "<table border=\"1\" class=\"dataframe\">\n",
       "  <thead>\n",
       "    <tr style=\"text-align: right;\">\n",
       "      <th></th>\n",
       "      <th>test_date</th>\n",
       "      <th>cough</th>\n",
       "      <th>fever</th>\n",
       "      <th>sore_throat</th>\n",
       "      <th>shortness_of_breath</th>\n",
       "      <th>head_ache</th>\n",
       "      <th>corona_result</th>\n",
       "      <th>age_60_and_above</th>\n",
       "      <th>gender</th>\n",
       "      <th>test_indication</th>\n",
       "      <th>age</th>\n",
       "    </tr>\n",
       "  </thead>\n",
       "  <tbody>\n",
       "    <tr>\n",
       "      <th>0</th>\n",
       "      <td>2021-02-12</td>\n",
       "      <td>0</td>\n",
       "      <td>0</td>\n",
       "      <td>0</td>\n",
       "      <td>0</td>\n",
       "      <td>0</td>\n",
       "      <td>Positive</td>\n",
       "      <td>No</td>\n",
       "      <td>male</td>\n",
       "      <td>Other</td>\n",
       "      <td>51</td>\n",
       "    </tr>\n",
       "    <tr>\n",
       "      <th>1</th>\n",
       "      <td>2020-10-14</td>\n",
       "      <td>0</td>\n",
       "      <td>0</td>\n",
       "      <td>0</td>\n",
       "      <td>0</td>\n",
       "      <td>0</td>\n",
       "      <td>Positive</td>\n",
       "      <td>No</td>\n",
       "      <td>male</td>\n",
       "      <td>Other</td>\n",
       "      <td>47</td>\n",
       "    </tr>\n",
       "    <tr>\n",
       "      <th>2</th>\n",
       "      <td>2021-02-22</td>\n",
       "      <td>0</td>\n",
       "      <td>0</td>\n",
       "      <td>0</td>\n",
       "      <td>0</td>\n",
       "      <td>0</td>\n",
       "      <td>Positive</td>\n",
       "      <td>No</td>\n",
       "      <td>female</td>\n",
       "      <td>Contact with confirmed</td>\n",
       "      <td>35</td>\n",
       "    </tr>\n",
       "    <tr>\n",
       "      <th>3</th>\n",
       "      <td>2021-03-06</td>\n",
       "      <td>1</td>\n",
       "      <td>0</td>\n",
       "      <td>0</td>\n",
       "      <td>0</td>\n",
       "      <td>1</td>\n",
       "      <td>Positive</td>\n",
       "      <td>No</td>\n",
       "      <td>female</td>\n",
       "      <td>Contact with confirmed</td>\n",
       "      <td>37</td>\n",
       "    </tr>\n",
       "    <tr>\n",
       "      <th>4</th>\n",
       "      <td>2021-09-24</td>\n",
       "      <td>0</td>\n",
       "      <td>0</td>\n",
       "      <td>0</td>\n",
       "      <td>0</td>\n",
       "      <td>0</td>\n",
       "      <td>Positive</td>\n",
       "      <td>No</td>\n",
       "      <td>female</td>\n",
       "      <td>Contact with confirmed</td>\n",
       "      <td>51</td>\n",
       "    </tr>\n",
       "  </tbody>\n",
       "</table>\n",
       "</div>"
      ],
      "text/plain": [
       "    test_date  cough  fever  sore_throat  shortness_of_breath  head_ache  \\\n",
       "0  2021-02-12      0      0            0                    0          0   \n",
       "1  2020-10-14      0      0            0                    0          0   \n",
       "2  2021-02-22      0      0            0                    0          0   \n",
       "3  2021-03-06      1      0            0                    0          1   \n",
       "4  2021-09-24      0      0            0                    0          0   \n",
       "\n",
       "  corona_result age_60_and_above  gender         test_indication  age  \n",
       "0      Positive               No    male                   Other   51  \n",
       "1      Positive               No    male                   Other   47  \n",
       "2      Positive               No  female  Contact with confirmed   35  \n",
       "3      Positive               No  female  Contact with confirmed   37  \n",
       "4      Positive               No  female  Contact with confirmed   51  "
      ]
     },
     "execution_count": 2,
     "metadata": {},
     "output_type": "execute_result"
    }
   ],
   "source": [
    "covid19_df = pd.read_csv('./covid19.csv')\n",
    "covid19_df.head()"
   ]
  },
  {
   "cell_type": "markdown",
   "id": "infectious-discovery",
   "metadata": {
    "pycharm": {
     "name": "#%% md\n"
    }
   },
   "source": [
    "## 3.1 Exploratory data analysis (EDA)\n",
    "\n",
    "An approach of analyzing data sets to summarize their main characteristics, often using statistical graphics and other data visualization methods (i.e matplotlib, distribution plot ..)<br> \n",
    "Today we are going to try a tool called [pandas profiling](https://github.com/pandas-profiling/pandas-profiling). It can be easily be installed with:\n",
    "1. pip: `pip3 install pandas-profiling`  \n",
    "1. conda: `conda install -c conda-forge pandas-profiling\n",
    "`\n",
    "\n",
    "**Note:** All that is done by pandas profilling can be easily be achieved with pandas, matplotlib and numpy"
   ]
  },
  {
   "cell_type": "code",
   "execution_count": null,
   "outputs": [],
   "source": [
    "import pandas_profiling\n",
    "\n",
    "# Create the data profile report\n",
    "profileReport = pandas_profiling.profile_report.ProfileReport(covid19_df)"
   ],
   "metadata": {
    "collapsed": false,
    "pycharm": {
     "name": "#%%\n"
    }
   }
  },
  {
   "cell_type": "code",
   "execution_count": null,
   "outputs": [],
   "source": [
    "profileReport.to_file"
   ],
   "metadata": {
    "collapsed": false,
    "pycharm": {
     "name": "#%%\n"
    }
   }
  },
  {
   "cell_type": "code",
   "execution_count": null,
   "id": "897d1f14",
   "metadata": {},
   "outputs": [],
   "source": [
    "profileReport.to_file"
   ]
  },
  {
   "cell_type": "markdown",
   "id": "tough-ideal",
   "metadata": {
    "pycharm": {
     "name": "#%% md\n"
    }
   },
   "source": [
    "## 3.2 Data preprocessing\n",
    "1. How to deal with missing values? \n",
    "1. How to deal with categorical data? \n",
    "1. Is data scaling needed? \n",
    "\n",
    "<span style=\"color:red\">TASK: Split data to train and test</span> <br>\n",
    "<span style=\"color:red\">TASK: Impute missing values</span> <br>\n",
    "<span style=\"color:red\">TASK: Encode categorical features</span> <br>\n",
    "<span style=\"color:red\">TASK: Use min-max scaler for feature scaling </span> <br>"
   ]
  },
  {
   "cell_type": "code",
   "execution_count": null,
   "id": "decreased-evening",
   "metadata": {
    "pycharm": {
     "name": "#%%\n"
    }
   },
   "outputs": [],
   "source": [
    "from sklearn.impute import SimpleImputer\n",
    "from sklearn.preprocessing import OneHotEncoder\n",
    "from sklearn.preprocessing import MinMaxScaler\n",
    "from sklearn.model_selection import train_test_split\n",
    "\n",
    "#Select features \n",
    "covid19_df.drop(['test_date'], axis = 1, inplace=True)\n",
    "\n",
    "# Encode the target label \n",
    "target_encoding = {'Negative':0, 'Positive':1}\n",
    "covid19_df['corona_result'] = covid19_df['corona_result'].apply(lambda x : target_encoding.get(x))\n",
    "\n",
    "# Split data to train and test\n",
    "x_train, x_test, y_train, y_test = None, None, None, None\n",
    "\n",
    "# imputing missing values\n",
    "imputer = None\n",
    "x_train = pd.DataFrame(imputer.transform(x_train), columns=x_train.columns)\n",
    "x_test = pd.DataFrame(imputer.transform(x_test), columns=x_test.columns)"
   ]
  },
  {
   "cell_type": "code",
   "execution_count": null,
   "id": "identified-groove",
   "metadata": {
    "pycharm": {
     "name": "#%%\n"
    }
   },
   "outputs": [],
   "source": [
    "# encode categorical features\n",
    "encoder = None\n",
    "features_to_encode = ['test_indication', 'age_60_and_above', 'gender']\n",
    "\n",
    "x_train = None\n",
    "x_test = None\n",
    "\n",
    "# TODO: feature scaling using MinMaxScaler\n",
    "scaler = None\n",
    "x_train = pd.DataFrame(scaler.transform(x_train), columns=x_train.columns)\n",
    "x_test = pd.DataFrame(scaler.transform(x_test), columns=x_test.columns)"
   ]
  },
  {
   "cell_type": "markdown",
   "id": "cloudy-serial",
   "metadata": {
    "pycharm": {
     "name": "#%% md\n"
    }
   },
   "source": [
    "## 4 Build, Train and Test Model\n",
    "\n",
    "Now we are ready to see Logistic Regression in practice.\n",
    "\n",
    "<span style=\"color:red\">Task : Fit Logistic Regression  </span> <br>\n",
    "<span style=\"color:red\">Task : Output Accuracy, Precision, and Recall scores on test set </span>"
   ]
  },
  {
   "cell_type": "code",
   "execution_count": null,
   "id": "selective-reform",
   "metadata": {
    "pycharm": {
     "name": "#%%\n"
    }
   },
   "outputs": [],
   "source": [
    "from sklearn.linear_model import LogisticRegression\n",
    "from sklearn import metrics\n",
    "\n",
    "# TODO: fit Logistic Regression\n",
    "clf = None\n",
    "\n",
    "\n",
    "# TODO: calculate metrics"
   ]
  },
  {
   "cell_type": "markdown",
   "id": "quick-olive",
   "metadata": {
    "pycharm": {
     "name": "#%% md\n"
    }
   },
   "source": [
    "## 5. Prediction Results Interpretation & Model perfomence Measurement\n",
    "\n",
    "1. looking at Logistic Regression Coefficients\n",
    "2. Prediction threshold\n",
    "\n",
    "### Task : \n",
    "1. Calculate Accuracy, Precision, and Recall values for each of the given threshold values and plot them."
   ]
  },
  {
   "cell_type": "code",
   "execution_count": null,
   "id": "attached-orleans",
   "metadata": {
    "pycharm": {
     "name": "#%%\n"
    }
   },
   "outputs": [],
   "source": [
    "# Logistic Regression Coefficients\n",
    "print(\"----Logistic Regression Coefficients----\")\n",
    "print(*[a for a in zip(list(x_train.columns), clf.coef_[0])], sep='\\n')"
   ]
  },
  {
   "cell_type": "code",
   "execution_count": null,
   "id": "timely-kinase",
   "metadata": {
    "pycharm": {
     "name": "#%%\n"
    }
   },
   "outputs": [],
   "source": [
    "# TODO: calculate metrics for each threshold above and plot the result as below.\n",
    "thresholds = [0.1,0.2,0.3,0.4,0.5,0.6,0.7,0.8,0.9]\n",
    "pred_proba = clf.predict_proba(x_test)\n",
    "\n",
    "results = [[],[],[]]\n",
    "for i in thresholds:\n",
    "    predicted_label = np.where(pred_proba[:, 1] > i , 1, 0)\n",
    "    #TODO: Calculate accuracy_score, precision_score & recall_score\n",
    "    results[0].append(...)\n",
    "    results[1].append(...)\n",
    "    results[2].append(...)\n",
    "    \n",
    "plt.plot(thresholds, results[0], label = 'accuracy')   \n",
    "plt.plot(thresholds, results[1], label = 'precision')   \n",
    "plt.plot(thresholds, results[2], label = 'recall')\n",
    "plt.title('Threshold Selection')\n",
    "plt.xlabel('threshold')\n",
    "plt.ylabel('score')\n",
    "plt.legend()\n",
    "plt.grid()"
   ]
  },
  {
   "cell_type": "markdown",
   "id": "based-conservative",
   "metadata": {
    "pycharm": {
     "name": "#%% md\n"
    }
   },
   "source": [
    "# Confusion matrix\n",
    "\n",
    "1. Why one may need confusion matrix? \n",
    "2. What new information does it show? <br><br>\n",
    "\n",
    "<table><tr><td>\n",
    "<img align='center' src='https://static.packt-cdn.com/products/9781838555078/graphics/C13314_06_05.jpg' style='width: 350px;'>\n",
    "</td><td>\n",
    "<img src='https://scikit-learn.org/stable/_images/sphx_glr_plot_confusion_matrix_002.png' style='width: 400px;'></td></tr></table>\n",
    "<br>\n",
    "\n",
    "\n",
    "<span style=\"color:red\">Task: Implement a confussion matrix method from scratch using python list and numpy</span>"
   ]
  },
  {
   "cell_type": "code",
   "execution_count": null,
   "id": "statewide-landscape",
   "metadata": {
    "pycharm": {
     "name": "#%%\n"
    }
   },
   "outputs": [],
   "source": [
    "def calc_confusion_matrix(true_labels, pred_labels):\n",
    "    \"\"\"Compute confusion matrix to evaluate the accuracy of a classification\n",
    "    \n",
    "    Parameters\n",
    "    ----------\n",
    "    true_labels : array-like of shape (n_samples,)\n",
    "        Ground truth (correct) target values.\n",
    "    pred_labels : array-like of shape (n_samples,)\n",
    "        Estimated targets as returned by a classifier.\n",
    "    \"\"\"\n",
    "    # TODO : Implement\n",
    "    return None"
   ]
  },
  {
   "cell_type": "code",
   "execution_count": null,
   "id": "considerable-colon",
   "metadata": {
    "pycharm": {
     "name": "#%%\n"
    }
   },
   "outputs": [],
   "source": [
    "## computing confusion matrix\n",
    "y_true = [2, 0, 2, 2, 0, 1]\n",
    "y_pred = [0, 0, 2, 2, 0, 2]\n",
    "print(\"Confusion Matrix for Test 1\")\n",
    "print(calc_confusion_matrix(y_true, y_pred))\n",
    "\n",
    "titanic_cm = calc_confusion_matrix(y_test, clf.predict(x_test))\n",
    "print('Confusion Matrix for Covid-19:\\n', titanic_cm, '\\n')"
   ]
  },
  {
   "cell_type": "code",
   "execution_count": null,
   "id": "institutional-constant",
   "metadata": {
    "pycharm": {
     "name": "#%%\n"
    }
   },
   "outputs": [],
   "source": [
    "# Run this block of code to see what your result should look like\n",
    "from sklearn.metrics import confusion_matrix\n",
    "print('sklearn Confusion Matrix for Sample set:\\n', confusion_matrix(y_true, y_pred))\n",
    "print('sklearn Confusion Matrix for Covid-19:\\n', confusion_matrix(y_test, clf.predict(x_test)), '\\n')"
   ]
  },
  {
   "cell_type": "markdown",
   "id": "7553ca86",
   "metadata": {
    "pycharm": {
     "name": "#%% md\n"
    }
   },
   "source": [
    "## <center>Self-Practice  Task</center>\n",
    "\n",
    "* Using `covid19-2.csv` dataset given to you.\n",
    "    1. Split the data to train and test set (80% training). Use [`sklearn.model_selection.train_test_split`](https://scikit-learn.org/stable/modules/generated/sklearn.model_selection.train_test_split.html)\n",
    "    1. Fill missing values\n",
    "    1. Encode categorical features\n",
    "    1. Create new features from the existing features\n",
    "    1. Train a logistic regression model that will predict if a person is infected by COvid-19 `(corona_result)`.\n",
    "    1. Select the optimal prediction threshold\n",
    "    1. Calculate Accuracy, Precision, and Recall values for each of the given threshold values and plot them. "
   ]
  },
  {
   "cell_type": "code",
   "execution_count": null,
   "id": "e105912a",
   "metadata": {
    "pycharm": {
     "name": "#%%\n"
    }
   },
   "outputs": [],
   "source": []
  }
 ],
 "metadata": {
  "kernelspec": {
   "display_name": "Python 3 (ipykernel)",
   "language": "python",
   "name": "python3"
  },
  "language_info": {
   "codemirror_mode": {
    "name": "ipython",
    "version": 3
   },
   "file_extension": ".py",
   "mimetype": "text/x-python",
   "name": "python",
   "nbconvert_exporter": "python",
   "pygments_lexer": "ipython3",
   "version": "3.8.10"
  }
 },
 "nbformat": 4,
 "nbformat_minor": 5
}